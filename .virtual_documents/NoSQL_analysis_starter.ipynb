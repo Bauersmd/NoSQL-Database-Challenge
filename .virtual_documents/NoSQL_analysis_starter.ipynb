





from pymongo import MongoClient
import pandas as pd
from pprint import pprint


# Create an instance of MongoClient
mongo = MongoClient(port=27017)


# assign the uk_food database to a variable name
db = mongo['uk_food']


# review the collections in our database
db.list_collection_names()


# assign the collection to a variable
establishments = db['establishments']








# Find the establishments with a hygiene score of 20
query = {'scores.Hygiene': {'$eq': 20}}
result = list(establishments.find(query))

# Use count_documents to display the number of documents in the result
print(establishments.count_documents({'scores.Hygiene': {'$eq': 20}}))

# Display the first document in the results using pprint
pprint(result[0])


# Convert the result to a Pandas DataFrame
hygiene_scores_20_df= pd.DataFrame(result)

# Display the number of rows in the DataFrame
print(f"Number of Rows: {len(hygiene_scores_20_df)}")

# Display the first 10 rows of the DataFrame
hygiene_scores_20_df.head()





# Find the establishments with London as the Local Authority and has a RatingValue greater than or equal to 4.
query = {'LocalAuthorityName' :{'$regex': "London"}, 'RatingValue': {'$gte': 4}}
results = list(establishments.find(query))

# Use count_documents to display the number of documents in the result
print(establishments.count_documents(query))

# Display the first document in the results using pprint
pprint(results[0])


# Convert the result to a Pandas DataFrame
ratingvalue_london_4_df = pd.DataFrame(results)

# Display the number of rows in the DataFrame
print(f"Number of Rows: {len(ratingvalue_london_4_df)}")

# Display the first 10 rows of the DataFrame
ratingvalue_london_4_df.head()





# Find the Longitude and Latitude
list(establishments.find({'BusinessName': 'Penang Flavours'}))


# Search within 0.01 degree on either side of the latitude and longitude.
# Rating value must equal 5
# Sort by hygiene score

degree_search = 0.01
latitude = 51.49014200
longitude = 0.08384000

query = {'RatingValue': {'$eq': 5},
        'geocode.longitude': {'$gte': (longitude-degree_search), '$lte': (longitude + degree_search)},
        'geocode.latitude': {'$gte': (latitude-degree_search), '$lte': (latitude + degree_search)}}
sort = [('scores.Hygiene', 1)]
limit = 5

# Print the results
results = list(establishments.find(query).sort(sort).limit(limit))
pprint(results)


# Convert result to Pandas DataFrame
penang_flavours_location_df = pd.DataFrame(results)
penang_flavours_location_df





# Create a pipeline that:
# 1. Matches establishments with a hygiene score of 0
matches_query = {'$match': {'scores.Hygiene': {'$eq': 0}}}

# 2. Groups the matches by Local Authority
groups_query = {'$group': {'_id': {'LocalAuthorityName': '$LocalAuthorityName'}, 'count': {'$sum': 1}}}

# 3. Sorts the matches from highest to lowest
sort_values = {'$sort': {'count': -1}}

# Pipepline results
pipeline_results = [matches_query, groups_query, sort_values]
results = list(establishments.aggregate(pipeline_results))

# Print the number of documents in the result
print(f"Document results Numbers: {establishments.count_documents(query)}")
# Print the first 10 results
pprint(results)


# Convert the result to a Pandas DataFrame
hygiene_authority_df = pd.DataFrame(results)
hygiene_authority_df

# Display the number of rows in the DataFrame
len(hygiene_authority_df)

# Display the first 10 rows of the DataFrame
hygiene_authority_df.head(15)




